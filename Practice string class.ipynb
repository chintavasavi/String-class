{
 "cells": [
  {
   "cell_type": "markdown",
   "id": "f7349d21",
   "metadata": {},
   "source": [
    "String"
   ]
  },
  {
   "cell_type": "code",
   "execution_count": 2,
   "id": "11c5c076",
   "metadata": {},
   "outputs": [],
   "source": [
    "name = \"Innomatics Research Labs\""
   ]
  },
  {
   "cell_type": "code",
   "execution_count": 3,
   "id": "d67c8511",
   "metadata": {},
   "outputs": [
    {
     "data": {
      "text/plain": [
       "str"
      ]
     },
     "execution_count": 3,
     "metadata": {},
     "output_type": "execute_result"
    }
   ],
   "source": [
    "type(name)"
   ]
  },
  {
   "cell_type": "code",
   "execution_count": 4,
   "id": "3efa1307",
   "metadata": {},
   "outputs": [
    {
     "data": {
      "text/plain": [
       "1806347266496"
      ]
     },
     "execution_count": 4,
     "metadata": {},
     "output_type": "execute_result"
    }
   ],
   "source": [
    "id(name)"
   ]
  },
  {
   "cell_type": "code",
   "execution_count": 5,
   "id": "5b9a8690",
   "metadata": {},
   "outputs": [
    {
     "name": "stdout",
     "output_type": "stream",
     "text": [
      "Innomatics Research Labs\n"
     ]
    }
   ],
   "source": [
    "print(name)"
   ]
  },
  {
   "cell_type": "markdown",
   "id": "2d589736",
   "metadata": {},
   "source": [
    "Escape Charecter"
   ]
  },
  {
   "cell_type": "code",
   "execution_count": 7,
   "id": "c231eb69",
   "metadata": {},
   "outputs": [
    {
     "data": {
      "text/plain": [
       "\"This is ramya's scooter\""
      ]
     },
     "execution_count": 7,
     "metadata": {},
     "output_type": "execute_result"
    }
   ],
   "source": [
    "'This is ramya\\'s scooter'"
   ]
  },
  {
   "cell_type": "code",
   "execution_count": 8,
   "id": "ef00be0d",
   "metadata": {},
   "outputs": [
    {
     "data": {
      "text/plain": [
       "'I am learning \"python\" in Innomatics'"
      ]
     },
     "execution_count": 8,
     "metadata": {},
     "output_type": "execute_result"
    }
   ],
   "source": [
    "'I am learning \"python\" in Innomatics'"
   ]
  },
  {
   "cell_type": "markdown",
   "id": "d09378d7",
   "metadata": {},
   "source": [
    "New Line"
   ]
  },
  {
   "cell_type": "code",
   "execution_count": 9,
   "id": "e5431f6d",
   "metadata": {},
   "outputs": [
    {
     "name": "stdout",
     "output_type": "stream",
     "text": [
      "I am data scientis\n",
      "I am from Hyderabad\n"
     ]
    }
   ],
   "source": [
    "print(\"\"\"I am data scientis\n",
    "I am from Hyderabad\"\"\")"
   ]
  },
  {
   "cell_type": "code",
   "execution_count": 11,
   "id": "047b8d6b",
   "metadata": {},
   "outputs": [
    {
     "name": "stdout",
     "output_type": "stream",
     "text": [
      "I am data scientis\n",
      "I am from Hyderabad\n"
     ]
    }
   ],
   "source": [
    "print(\"I am data scientis\\nI am from Hyderabad\")"
   ]
  },
  {
   "cell_type": "markdown",
   "id": "a05fe5cd",
   "metadata": {},
   "source": [
    "Maintaining some spce (Keyword is \\t)"
   ]
  },
  {
   "cell_type": "code",
   "execution_count": 12,
   "id": "cadcb12a",
   "metadata": {},
   "outputs": [
    {
     "data": {
      "text/plain": [
       "'Hello world'"
      ]
     },
     "execution_count": 12,
     "metadata": {},
     "output_type": "execute_result"
    }
   ],
   "source": [
    "(\"Hello world\")"
   ]
  },
  {
   "cell_type": "code",
   "execution_count": 13,
   "id": "967b9053",
   "metadata": {},
   "outputs": [
    {
     "name": "stdout",
     "output_type": "stream",
     "text": [
      "Hello     world\n"
     ]
    }
   ],
   "source": [
    "print(\"Hello     world\")"
   ]
  },
  {
   "cell_type": "code",
   "execution_count": 14,
   "id": "6c233f20",
   "metadata": {},
   "outputs": [
    {
     "name": "stdout",
     "output_type": "stream",
     "text": [
      "Hello \tworld\n"
     ]
    }
   ],
   "source": [
    "print(\"Hello \\tworld\")"
   ]
  },
  {
   "cell_type": "markdown",
   "id": "1fd032df",
   "metadata": {},
   "source": [
    "Backspace"
   ]
  },
  {
   "cell_type": "code",
   "execution_count": 19,
   "id": "a2d060f9",
   "metadata": {},
   "outputs": [
    {
     "name": "stdout",
     "output_type": "stream",
     "text": [
      "Hello wor\bld\n"
     ]
    }
   ],
   "source": [
    "print(\"Hello wor\\bld\")"
   ]
  },
  {
   "cell_type": "code",
   "execution_count": 20,
   "id": "278af1da",
   "metadata": {},
   "outputs": [
    {
     "ename": "SyntaxError",
     "evalue": "unexpected character after line continuation character (2736018147.py, line 1)",
     "output_type": "error",
     "traceback": [
      "\u001b[1;36m  Cell \u001b[1;32mIn[20], line 1\u001b[1;36m\u001b[0m\n\u001b[1;33m    sum\\number\u001b[0m\n\u001b[1;37m        ^\u001b[0m\n\u001b[1;31mSyntaxError\u001b[0m\u001b[1;31m:\u001b[0m unexpected character after line continuation character\n"
     ]
    }
   ],
   "source": [
    "sum\\number"
   ]
  },
  {
   "cell_type": "code",
   "execution_count": 21,
   "id": "123ce9c7",
   "metadata": {},
   "outputs": [
    {
     "name": "stdout",
     "output_type": "stream",
     "text": [
      "sum\n",
      "um\n"
     ]
    }
   ],
   "source": [
    "print(\"sum\\num\")"
   ]
  },
  {
   "cell_type": "code",
   "execution_count": 22,
   "id": "771fb1ff",
   "metadata": {},
   "outputs": [
    {
     "name": "stdout",
     "output_type": "stream",
     "text": [
      "sum\\num\n"
     ]
    }
   ],
   "source": [
    "print(\"sum\\\\num\")"
   ]
  },
  {
   "cell_type": "code",
   "execution_count": 23,
   "id": "bf69987c",
   "metadata": {},
   "outputs": [
    {
     "name": "stdout",
     "output_type": "stream",
     "text": [
      "sum\\num\n"
     ]
    }
   ],
   "source": [
    "print(r\"sum\\num\")   # raw string"
   ]
  },
  {
   "cell_type": "code",
   "execution_count": 24,
   "id": "0038bd9b",
   "metadata": {},
   "outputs": [
    {
     "name": "stdout",
     "output_type": "stream",
     "text": [
      "num\\balls\n"
     ]
    }
   ],
   "source": [
    "print(r\"num\\balls\")"
   ]
  },
  {
   "cell_type": "markdown",
   "id": "33952998",
   "metadata": {},
   "source": [
    "Indexing and slicing"
   ]
  },
  {
   "cell_type": "code",
   "execution_count": 25,
   "id": "c697e27d",
   "metadata": {},
   "outputs": [],
   "source": [
    "name = \"Innomatics Research Labs\""
   ]
  },
  {
   "cell_type": "code",
   "execution_count": 27,
   "id": "b5ba09c7",
   "metadata": {},
   "outputs": [
    {
     "data": {
      "text/plain": [
       "'s'"
      ]
     },
     "execution_count": 27,
     "metadata": {},
     "output_type": "execute_result"
    }
   ],
   "source": [
    "name[9]"
   ]
  },
  {
   "cell_type": "code",
   "execution_count": 28,
   "id": "2746f27e",
   "metadata": {},
   "outputs": [
    {
     "data": {
      "text/plain": [
       "'r'"
      ]
     },
     "execution_count": 28,
     "metadata": {},
     "output_type": "execute_result"
    }
   ],
   "source": [
    "name[16]"
   ]
  },
  {
   "cell_type": "code",
   "execution_count": 30,
   "id": "ee5f249d",
   "metadata": {},
   "outputs": [
    {
     "data": {
      "text/plain": [
       "'b'"
      ]
     },
     "execution_count": 30,
     "metadata": {},
     "output_type": "execute_result"
    }
   ],
   "source": [
    "name[22] "
   ]
  },
  {
   "cell_type": "code",
   "execution_count": 31,
   "id": "44d49b95",
   "metadata": {},
   "outputs": [
    {
     "data": {
      "text/plain": [
       "'n'"
      ]
     },
     "execution_count": 31,
     "metadata": {},
     "output_type": "execute_result"
    }
   ],
   "source": [
    "name[-22]"
   ]
  },
  {
   "cell_type": "code",
   "execution_count": 33,
   "id": "36b2ec1a",
   "metadata": {},
   "outputs": [],
   "source": [
    "name = \"Hellow world\""
   ]
  },
  {
   "cell_type": "code",
   "execution_count": 34,
   "id": "8c47f55d",
   "metadata": {},
   "outputs": [
    {
     "data": {
      "text/plain": [
       "'H'"
      ]
     },
     "execution_count": 34,
     "metadata": {},
     "output_type": "execute_result"
    }
   ],
   "source": [
    "name[0]"
   ]
  },
  {
   "cell_type": "code",
   "execution_count": 36,
   "id": "3806f2ca",
   "metadata": {},
   "outputs": [
    {
     "data": {
      "text/plain": [
       "'d'"
      ]
     },
     "execution_count": 36,
     "metadata": {},
     "output_type": "execute_result"
    }
   ],
   "source": [
    "name[11]"
   ]
  },
  {
   "cell_type": "code",
   "execution_count": 35,
   "id": "eec5f4d9",
   "metadata": {},
   "outputs": [
    {
     "data": {
      "text/plain": [
       "'w'"
      ]
     },
     "execution_count": 35,
     "metadata": {},
     "output_type": "execute_result"
    }
   ],
   "source": [
    "name[5]"
   ]
  },
  {
   "cell_type": "code",
   "execution_count": 38,
   "id": "fac3f4a1",
   "metadata": {},
   "outputs": [
    {
     "data": {
      "text/plain": [
       "'H'"
      ]
     },
     "execution_count": 38,
     "metadata": {},
     "output_type": "execute_result"
    }
   ],
   "source": [
    "name[-12]"
   ]
  },
  {
   "cell_type": "code",
   "execution_count": 39,
   "id": "da65f128",
   "metadata": {},
   "outputs": [
    {
     "data": {
      "text/plain": [
       "'d'"
      ]
     },
     "execution_count": 39,
     "metadata": {},
     "output_type": "execute_result"
    }
   ],
   "source": [
    "name[-1]"
   ]
  },
  {
   "cell_type": "code",
   "execution_count": 42,
   "id": "4ce5c49b",
   "metadata": {},
   "outputs": [
    {
     "data": {
      "text/plain": [
       "'w'"
      ]
     },
     "execution_count": 42,
     "metadata": {},
     "output_type": "execute_result"
    }
   ],
   "source": [
    "name[-5]"
   ]
  },
  {
   "cell_type": "code",
   "execution_count": 41,
   "id": "9bc1e149",
   "metadata": {},
   "outputs": [
    {
     "data": {
      "text/plain": [
       "'r'"
      ]
     },
     "execution_count": 41,
     "metadata": {},
     "output_type": "execute_result"
    }
   ],
   "source": [
    "name[-3]"
   ]
  },
  {
   "cell_type": "markdown",
   "id": "c262c0ab",
   "metadata": {},
   "source": [
    "Slicing"
   ]
  },
  {
   "cell_type": "markdown",
   "id": "8afa47cc",
   "metadata": {},
   "source": [
    "variable_name=[index number]"
   ]
  },
  {
   "cell_type": "code",
   "execution_count": 44,
   "id": "40d42ae6",
   "metadata": {},
   "outputs": [],
   "source": [
    "name = \"Innomatics Research Labs\""
   ]
  },
  {
   "cell_type": "code",
   "execution_count": 47,
   "id": "75e01dd2",
   "metadata": {},
   "outputs": [
    {
     "data": {
      "text/plain": [
       "'nnoma'"
      ]
     },
     "execution_count": 47,
     "metadata": {},
     "output_type": "execute_result"
    }
   ],
   "source": [
    "name[1:6:1]"
   ]
  },
  {
   "cell_type": "code",
   "execution_count": 48,
   "id": "f055d1c9",
   "metadata": {},
   "outputs": [
    {
     "data": {
      "text/plain": [
       "'nm'"
      ]
     },
     "execution_count": 48,
     "metadata": {},
     "output_type": "execute_result"
    }
   ],
   "source": [
    "name[2:5:2]"
   ]
  },
  {
   "cell_type": "code",
   "execution_count": 49,
   "id": "f142a22c",
   "metadata": {},
   "outputs": [
    {
     "data": {
      "text/plain": [
       "'Labs'"
      ]
     },
     "execution_count": 49,
     "metadata": {},
     "output_type": "execute_result"
    }
   ],
   "source": [
    "name[20::]"
   ]
  },
  {
   "cell_type": "markdown",
   "id": "d1f2fdf5",
   "metadata": {},
   "source": [
    "Reverse slicing"
   ]
  },
  {
   "cell_type": "markdown",
   "id": "1825b704",
   "metadata": {},
   "source": [
    "name[start:stop:step]"
   ]
  },
  {
   "cell_type": "code",
   "execution_count": 51,
   "id": "56debe88",
   "metadata": {},
   "outputs": [
    {
     "data": {
      "text/plain": [
       "''"
      ]
     },
     "execution_count": 51,
     "metadata": {},
     "output_type": "execute_result"
    }
   ],
   "source": [
    "name[-18:-23:]"
   ]
  },
  {
   "cell_type": "code",
   "execution_count": 52,
   "id": "2dbb6c7f",
   "metadata": {},
   "outputs": [
    {
     "data": {
      "text/plain": [
       "'tamon'"
      ]
     },
     "execution_count": 52,
     "metadata": {},
     "output_type": "execute_result"
    }
   ],
   "source": [
    "name[-18:-23:-1]"
   ]
  },
  {
   "cell_type": "code",
   "execution_count": 53,
   "id": "5cb5649b",
   "metadata": {},
   "outputs": [],
   "source": [
    "n=\"world\""
   ]
  },
  {
   "cell_type": "code",
   "execution_count": 56,
   "id": "94a8db29",
   "metadata": {},
   "outputs": [
    {
     "data": {
      "text/plain": [
       "'dlrow'"
      ]
     },
     "execution_count": 56,
     "metadata": {},
     "output_type": "execute_result"
    }
   ],
   "source": [
    "n[::-1]    #reverse string"
   ]
  },
  {
   "cell_type": "markdown",
   "id": "a4aaffe4",
   "metadata": {},
   "source": [
    "# STring Methods"
   ]
  },
  {
   "cell_type": "code",
   "execution_count": 57,
   "id": "7cdfe19c",
   "metadata": {},
   "outputs": [],
   "source": [
    "string = \"Innomatics Research Labs\""
   ]
  },
  {
   "cell_type": "code",
   "execution_count": 58,
   "id": "1b8de866",
   "metadata": {},
   "outputs": [
    {
     "data": {
      "text/plain": [
       "'Innomatics research labs'"
      ]
     },
     "execution_count": 58,
     "metadata": {},
     "output_type": "execute_result"
    }
   ],
   "source": [
    "string.capitalize()"
   ]
  },
  {
   "cell_type": "code",
   "execution_count": 63,
   "id": "e92be426",
   "metadata": {},
   "outputs": [
    {
     "ename": "NameError",
     "evalue": "name 's' is not defined",
     "output_type": "error",
     "traceback": [
      "\u001b[1;31m---------------------------------------------------------------------------\u001b[0m",
      "\u001b[1;31mNameError\u001b[0m                                 Traceback (most recent call last)",
      "Cell \u001b[1;32mIn[63], line 1\u001b[0m\n\u001b[1;32m----> 1\u001b[0m \u001b[38;5;28mstr\u001b[39m\u001b[38;5;241m.\u001b[39mfind(s)\n",
      "\u001b[1;31mNameError\u001b[0m: name 's' is not defined"
     ]
    }
   ],
   "source": [
    "str.find(s)"
   ]
  },
  {
   "cell_type": "code",
   "execution_count": 64,
   "id": "f4bea137",
   "metadata": {},
   "outputs": [
    {
     "data": {
      "text/plain": [
       "'innomatics research labs'"
      ]
     },
     "execution_count": 64,
     "metadata": {},
     "output_type": "execute_result"
    }
   ],
   "source": [
    "string.lower()"
   ]
  },
  {
   "cell_type": "code",
   "execution_count": 65,
   "id": "ed873d1e",
   "metadata": {},
   "outputs": [
    {
     "data": {
      "text/plain": [
       "'INNOMATICS RESEARCH LABS'"
      ]
     },
     "execution_count": 65,
     "metadata": {},
     "output_type": "execute_result"
    }
   ],
   "source": [
    "string.upper()"
   ]
  },
  {
   "cell_type": "code",
   "execution_count": 67,
   "id": "6e2c85e6",
   "metadata": {},
   "outputs": [
    {
     "data": {
      "text/plain": [
       "'innomatics research labs'"
      ]
     },
     "execution_count": 67,
     "metadata": {},
     "output_type": "execute_result"
    }
   ],
   "source": [
    "string.casefold()"
   ]
  },
  {
   "cell_type": "code",
   "execution_count": 68,
   "id": "c69de037",
   "metadata": {},
   "outputs": [
    {
     "ename": "TypeError",
     "evalue": "find() takes at least 1 argument (0 given)",
     "output_type": "error",
     "traceback": [
      "\u001b[1;31m---------------------------------------------------------------------------\u001b[0m",
      "\u001b[1;31mTypeError\u001b[0m                                 Traceback (most recent call last)",
      "Cell \u001b[1;32mIn[68], line 1\u001b[0m\n\u001b[1;32m----> 1\u001b[0m string\u001b[38;5;241m.\u001b[39mfind()\n",
      "\u001b[1;31mTypeError\u001b[0m: find() takes at least 1 argument (0 given)"
     ]
    }
   ],
   "source": [
    "string.find()"
   ]
  },
  {
   "cell_type": "code",
   "execution_count": 69,
   "id": "83bdb422",
   "metadata": {},
   "outputs": [],
   "source": [
    "string = \"Innomatics Research Labs\""
   ]
  },
  {
   "cell_type": "code",
   "execution_count": 73,
   "id": "cf2f916f",
   "metadata": {},
   "outputs": [
    {
     "ename": "NameError",
     "evalue": "name 'nom' is not defined",
     "output_type": "error",
     "traceback": [
      "\u001b[1;31m---------------------------------------------------------------------------\u001b[0m",
      "\u001b[1;31mNameError\u001b[0m                                 Traceback (most recent call last)",
      "Cell \u001b[1;32mIn[73], line 1\u001b[0m\n\u001b[1;32m----> 1\u001b[0m string\u001b[38;5;241m.\u001b[39mindex(nom)\n",
      "\u001b[1;31mNameError\u001b[0m: name 'nom' is not defined"
     ]
    }
   ],
   "source": [
    "string.index(nom)"
   ]
  },
  {
   "cell_type": "code",
   "execution_count": 74,
   "id": "e43d3422",
   "metadata": {},
   "outputs": [
    {
     "data": {
      "text/plain": [
       "['Innomatics', 'Research', 'Labs']"
      ]
     },
     "execution_count": 74,
     "metadata": {},
     "output_type": "execute_result"
    }
   ],
   "source": [
    "string.split()"
   ]
  },
  {
   "cell_type": "code",
   "execution_count": 2,
   "id": "6e928a22",
   "metadata": {},
   "outputs": [],
   "source": [
    "name = \"   Innomatics Research Labs   \""
   ]
  },
  {
   "cell_type": "code",
   "execution_count": 3,
   "id": "e6e91ec1",
   "metadata": {},
   "outputs": [
    {
     "data": {
      "text/plain": [
       "'Innomatics Research Labs'"
      ]
     },
     "execution_count": 3,
     "metadata": {},
     "output_type": "execute_result"
    }
   ],
   "source": [
    "name.strip()"
   ]
  },
  {
   "cell_type": "code",
   "execution_count": 4,
   "id": "41ddb79a",
   "metadata": {},
   "outputs": [
    {
     "data": {
      "text/plain": [
       "'   Innomatics Research Labs'"
      ]
     },
     "execution_count": 4,
     "metadata": {},
     "output_type": "execute_result"
    }
   ],
   "source": [
    "name.rstrip()"
   ]
  },
  {
   "cell_type": "code",
   "execution_count": 5,
   "id": "773e4611",
   "metadata": {},
   "outputs": [
    {
     "data": {
      "text/plain": [
       "'Innomatics Research Labs   '"
      ]
     },
     "execution_count": 5,
     "metadata": {},
     "output_type": "execute_result"
    }
   ],
   "source": [
    "name.lstrip()"
   ]
  },
  {
   "cell_type": "code",
   "execution_count": 7,
   "id": "460ac830",
   "metadata": {},
   "outputs": [
    {
     "data": {
      "text/plain": [
       "'   iNNOMATICS rESEARCH lABS   '"
      ]
     },
     "execution_count": 7,
     "metadata": {},
     "output_type": "execute_result"
    }
   ],
   "source": [
    "name.swapcase()"
   ]
  },
  {
   "cell_type": "code",
   "execution_count": 2,
   "id": "5bf731c4",
   "metadata": {},
   "outputs": [],
   "source": [
    "name = \"Innomatics Research Labs\""
   ]
  },
  {
   "cell_type": "code",
   "execution_count": 6,
   "id": "7bace823",
   "metadata": {},
   "outputs": [
    {
     "data": {
      "text/plain": [
       "'Innomatics Research Labs'"
      ]
     },
     "execution_count": 6,
     "metadata": {},
     "output_type": "execute_result"
    }
   ],
   "source": [
    "name.zfill(20)"
   ]
  },
  {
   "cell_type": "code",
   "execution_count": 7,
   "id": "e4b97668",
   "metadata": {},
   "outputs": [
    {
     "data": {
      "text/plain": [
       "'*************Innomatics Research Labs*************'"
      ]
     },
     "execution_count": 7,
     "metadata": {},
     "output_type": "execute_result"
    }
   ],
   "source": [
    "name.center(50,'*')"
   ]
  },
  {
   "cell_type": "markdown",
   "id": "c75fcf86",
   "metadata": {},
   "source": [
    "# Checking condition"
   ]
  },
  {
   "cell_type": "code",
   "execution_count": 8,
   "id": "f7e48048",
   "metadata": {},
   "outputs": [
    {
     "data": {
      "text/plain": [
       "'Innomatics Research Labs'"
      ]
     },
     "execution_count": 8,
     "metadata": {},
     "output_type": "execute_result"
    }
   ],
   "source": [
    "name"
   ]
  },
  {
   "cell_type": "code",
   "execution_count": 9,
   "id": "33115166",
   "metadata": {},
   "outputs": [
    {
     "data": {
      "text/plain": [
       "False"
      ]
     },
     "execution_count": 9,
     "metadata": {},
     "output_type": "execute_result"
    }
   ],
   "source": [
    "name.isalnum()"
   ]
  },
  {
   "cell_type": "code",
   "execution_count": 10,
   "id": "d23e4060",
   "metadata": {},
   "outputs": [
    {
     "data": {
      "text/plain": [
       "False"
      ]
     },
     "execution_count": 10,
     "metadata": {},
     "output_type": "execute_result"
    }
   ],
   "source": [
    "name.isalpha()"
   ]
  },
  {
   "cell_type": "code",
   "execution_count": 11,
   "id": "b87898e8",
   "metadata": {},
   "outputs": [
    {
     "data": {
      "text/plain": [
       "False"
      ]
     },
     "execution_count": 11,
     "metadata": {},
     "output_type": "execute_result"
    }
   ],
   "source": [
    "name.isdigit()"
   ]
  },
  {
   "cell_type": "code",
   "execution_count": 12,
   "id": "dc215983",
   "metadata": {},
   "outputs": [
    {
     "data": {
      "text/plain": [
       "False"
      ]
     },
     "execution_count": 12,
     "metadata": {},
     "output_type": "execute_result"
    }
   ],
   "source": [
    "name.isidentifier()"
   ]
  },
  {
   "cell_type": "code",
   "execution_count": 13,
   "id": "1755d5c2",
   "metadata": {},
   "outputs": [
    {
     "data": {
      "text/plain": [
       "False"
      ]
     },
     "execution_count": 13,
     "metadata": {},
     "output_type": "execute_result"
    }
   ],
   "source": [
    " name.isspace()"
   ]
  },
  {
   "cell_type": "code",
   "execution_count": 1,
   "id": "98bd7704",
   "metadata": {},
   "outputs": [
    {
     "name": "stdout",
     "output_type": "stream",
     "text": [
      "Enter gmail accout id ::vasavi1994@gmail.com\n"
     ]
    },
    {
     "data": {
      "text/plain": [
       "True"
      ]
     },
     "execution_count": 1,
     "metadata": {},
     "output_type": "execute_result"
    }
   ],
   "source": [
    "gmail= input(\"Enter gmail accout id ::\")\n",
    "gmail.endswith(\"@gmail.com\")"
   ]
  },
  {
   "cell_type": "code",
   "execution_count": 2,
   "id": "05ac1e40",
   "metadata": {},
   "outputs": [
    {
     "name": "stdout",
     "output_type": "stream",
     "text": [
      "Enter your website ::www.facebook.com\n"
     ]
    },
    {
     "data": {
      "text/plain": [
       "True"
      ]
     },
     "execution_count": 2,
     "metadata": {},
     "output_type": "execute_result"
    }
   ],
   "source": [
    "website= input(\"Enter your website ::\")\n",
    "\n",
    "(website.startswith(\"www.\")) and (website.endswith(\".com\"))"
   ]
  },
  {
   "cell_type": "markdown",
   "id": "d4738ebe",
   "metadata": {},
   "source": [
    "# Formating String"
   ]
  },
  {
   "cell_type": "code",
   "execution_count": 5,
   "id": "4cffd9b5",
   "metadata": {},
   "outputs": [],
   "source": [
    "string = 'I am Dataanalyst and data scientist too'"
   ]
  },
  {
   "cell_type": "code",
   "execution_count": 15,
   "id": "25906b2f",
   "metadata": {},
   "outputs": [],
   "source": [
    "Innomatics = \"Hello\""
   ]
  },
  {
   "cell_type": "code",
   "execution_count": 16,
   "id": "150c875e",
   "metadata": {},
   "outputs": [
    {
     "name": "stdout",
     "output_type": "stream",
     "text": [
      "enter ur name :: vasavi\n",
      "enter ur city :: hyd\n"
     ]
    }
   ],
   "source": [
    "name = input(\"enter ur name :: \")\n",
    "city = input(\"enter ur city :: \")"
   ]
  },
  {
   "cell_type": "code",
   "execution_count": 23,
   "id": "b336e8e5",
   "metadata": {},
   "outputs": [
    {
     "name": "stdout",
     "output_type": "stream",
     "text": [
      "Hellovasaviyou are fromhyd\n"
     ]
    }
   ],
   "source": [
    "print('Hello'  +name+ 'you are from'  +city)"
   ]
  },
  {
   "cell_type": "markdown",
   "id": "17e54e8c",
   "metadata": {},
   "source": [
    "# Type Casting(changing or transforming)"
   ]
  },
  {
   "cell_type": "code",
   "execution_count": 24,
   "id": "a15b021d",
   "metadata": {},
   "outputs": [],
   "source": [
    "phone =9490013799"
   ]
  },
  {
   "cell_type": "code",
   "execution_count": 25,
   "id": "82cd1736",
   "metadata": {},
   "outputs": [
    {
     "data": {
      "text/plain": [
       "10"
      ]
     },
     "execution_count": 25,
     "metadata": {},
     "output_type": "execute_result"
    }
   ],
   "source": [
    "len(str(phone))"
   ]
  },
  {
   "cell_type": "code",
   "execution_count": 26,
   "id": "1bb57ebe",
   "metadata": {},
   "outputs": [
    {
     "name": "stdout",
     "output_type": "stream",
     "text": [
      "Enter a first num: 55\n",
      "Enter a second num68\n"
     ]
    }
   ],
   "source": [
    "a = input(\"Enter a first num: \")\n",
    "b = input(\"Enter a second num\")"
   ]
  },
  {
   "cell_type": "code",
   "execution_count": 27,
   "id": "2d90fc2f",
   "metadata": {},
   "outputs": [
    {
     "name": "stdout",
     "output_type": "stream",
     "text": [
      "5568\n"
     ]
    }
   ],
   "source": [
    "print(a+b)"
   ]
  },
  {
   "cell_type": "markdown",
   "id": "fe4a112e",
   "metadata": {},
   "source": [
    "# Other to integer"
   ]
  },
  {
   "cell_type": "code",
   "execution_count": 28,
   "id": "59cac937",
   "metadata": {},
   "outputs": [],
   "source": [
    "a = 100\n",
    "b = int(a)"
   ]
  },
  {
   "cell_type": "code",
   "execution_count": 29,
   "id": "4d2512a4",
   "metadata": {},
   "outputs": [
    {
     "data": {
      "text/plain": [
       "100"
      ]
     },
     "execution_count": 29,
     "metadata": {},
     "output_type": "execute_result"
    }
   ],
   "source": [
    "b"
   ]
  },
  {
   "cell_type": "markdown",
   "id": "9dfb6e18",
   "metadata": {},
   "source": [
    "Other to float"
   ]
  },
  {
   "cell_type": "code",
   "execution_count": 30,
   "id": "598e7f91",
   "metadata": {},
   "outputs": [
    {
     "data": {
      "text/plain": [
       "14.0"
      ]
     },
     "execution_count": 30,
     "metadata": {},
     "output_type": "execute_result"
    }
   ],
   "source": [
    "a=14\n",
    "float(a)"
   ]
  },
  {
   "cell_type": "markdown",
   "id": "701dae92",
   "metadata": {},
   "source": [
    "Other to string"
   ]
  },
  {
   "cell_type": "code",
   "execution_count": 31,
   "id": "7ce4ee03",
   "metadata": {},
   "outputs": [
    {
     "name": "stdout",
     "output_type": "stream",
     "text": [
      "25.75\n"
     ]
    }
   ],
   "source": [
    "b= 25.75\n",
    "print(b)"
   ]
  },
  {
   "cell_type": "markdown",
   "id": "c69598e1",
   "metadata": {},
   "source": [
    "Other to boolean"
   ]
  },
  {
   "cell_type": "code",
   "execution_count": 32,
   "id": "7e59a4aa",
   "metadata": {},
   "outputs": [
    {
     "data": {
      "text/plain": [
       "False"
      ]
     },
     "execution_count": 32,
     "metadata": {},
     "output_type": "execute_result"
    }
   ],
   "source": [
    "a = 0\n",
    "bool(0)"
   ]
  },
  {
   "cell_type": "code",
   "execution_count": 33,
   "id": "900e82bc",
   "metadata": {},
   "outputs": [
    {
     "data": {
      "text/plain": [
       "True"
      ]
     },
     "execution_count": 33,
     "metadata": {},
     "output_type": "execute_result"
    }
   ],
   "source": [
    "b=8\n",
    "bool(8)"
   ]
  },
  {
   "cell_type": "code",
   "execution_count": null,
   "id": "1698cbbb",
   "metadata": {},
   "outputs": [],
   "source": []
  }
 ],
 "metadata": {
  "kernelspec": {
   "display_name": "Python 3 (ipykernel)",
   "language": "python",
   "name": "python3"
  },
  "language_info": {
   "codemirror_mode": {
    "name": "ipython",
    "version": 3
   },
   "file_extension": ".py",
   "mimetype": "text/x-python",
   "name": "python",
   "nbconvert_exporter": "python",
   "pygments_lexer": "ipython3",
   "version": "3.11.4"
  }
 },
 "nbformat": 4,
 "nbformat_minor": 5
}
